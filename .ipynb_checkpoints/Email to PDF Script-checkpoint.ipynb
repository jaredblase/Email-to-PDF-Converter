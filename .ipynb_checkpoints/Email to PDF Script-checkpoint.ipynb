{
 "cells": [
  {
   "cell_type": "markdown",
   "metadata": {},
   "source": [
    "<h1>Email To PDF: Python Script</h1>\n",
    "<p>Before running, please set the custom variables in the first code cell below and just run all cells</p>\n",
    "<p>Note that this will only work for DLSU's Help Desk Announcement emails because the process in code cell 11 requires the\n",
    "    subject line to be in the format \"[DEPT] Lorem Ipsum\". This code can be customized futher.</p>\n",
    "\n",
    "Author: Jared Blase Sy\n",
    "    \n",
    "<h4>Dependencies</h4>\n",
    "<ol>\n",
    "    <li><a href=https://developers.google.com/gmail/api/quickstart/python>Gmail API</a></li>\n",
    "    <li><a href=https://github.com/nickrussler/email-to-pdf-converter/releases/>nickrussler: email-to-pdf-converter</a></li>\n",
    "</ol>\n",
    "\n",
    "<h4>References</h4>\n",
    "<ol>\n",
    "    <li><a href=https://github.com/MagTun/gmail-to-pdf>MagTun: gmail-to-pdf</a></li>\n",
    "</ol>"
   ]
  },
  {
   "cell_type": "code",
   "execution_count": 2,
   "metadata": {},
   "outputs": [],
   "source": [
    "# Custom Variable read from config.json\n",
    "import json\n",
    "\n",
    "with open('config.json') as f:\n",
    "    data = json.load(f)\n",
    "\n",
    "LABEL_NAME = data['label-name']\n",
    "\n",
    "IN_TRASH = data['get-mail-in-trash'] == 'True'\n",
    "\n",
    "USER = data['user']\n",
    "\n",
    "DIR_NAME = data['dir-name']\n",
    "\n",
    "SAVE_FOLDER = data['save-folder']\n",
    "\n",
    "JAR_PATH = data['jar-path']"
   ]
  },
  {
   "cell_type": "code",
   "execution_count": 3,
   "metadata": {},
   "outputs": [],
   "source": [
    "# Process dependent constants\n",
    "\n",
    "SAVE_FOLDER = DIR_NAME + SAVE_FOLDER\n",
    "CMD = f'java -jar \"{JAR_PATH}\"'"
   ]
  },
  {
   "cell_type": "markdown",
   "metadata": {},
   "source": [
    "<h3>Obtain Relevant Emails</h3>"
   ]
  },
  {
   "cell_type": "code",
   "execution_count": 4,
   "metadata": {},
   "outputs": [],
   "source": [
    "# Required libraries to connect with Google API\n",
    "\n",
    "from __future__ import print_function\n",
    "import os.path\n",
    "from googleapiclient.discovery import build\n",
    "from google_auth_oauthlib.flow import InstalledAppFlow\n",
    "from google.auth.transport.requests import Request\n",
    "from google.oauth2.credentials import Credentials"
   ]
  },
  {
   "cell_type": "code",
   "execution_count": null,
   "metadata": {},
   "outputs": [
    {
     "name": "stdout",
     "output_type": "stream",
     "text": [
      "Please visit this URL to authorize this application: https://accounts.google.com/o/oauth2/auth?response_type=code&client_id=239659493170-qa1isa8cqkd4lreku6qgfbbha8e5s4e7.apps.googleusercontent.com&redirect_uri=http%3A%2F%2Flocalhost%3A51496%2F&scope=https%3A%2F%2Fwww.googleapis.com%2Fauth%2Fgmail.readonly&state=O7DfPLoWbq9GC594FSnEcPZPcoVYpt&access_type=offline\n"
     ]
    }
   ],
   "source": [
    "# Establish a connection to authenticated user\n",
    "\n",
    "# If modifying these scopes, delete the file token.json.\n",
    "SCOPES = ['https://www.googleapis.com/auth/gmail.readonly']\n",
    "\n",
    "creds = None\n",
    "\n",
    "# The file token.json stores the user's access and refresh tokens, and is\n",
    "# created automatically when the authorization flow completes for the first\n",
    "# time.\n",
    "if os.path.exists('token.json'):\n",
    "    creds = Credentials.from_authorized_user_file('token.json', SCOPES)\n",
    "\n",
    "# If there are no (valid) credentials available, let the user log in.\n",
    "if not creds or not creds.valid:\n",
    "    if creds and creds.expired and creds.refresh_token:\n",
    "        creds.refresh(Request())\n",
    "    else:\n",
    "        flow = InstalledAppFlow.from_client_secrets_file(\n",
    "            'credentials.json', SCOPES)\n",
    "        creds = flow.run_local_server(port=0)\n",
    "    \n",
    "    # Save the credentials for the next run\n",
    "    with open('token.json', 'w') as token:\n",
    "        token.write(creds.to_json())\n",
    "\n",
    "service = build('gmail', 'v1', credentials=creds)"
   ]
  },
  {
   "cell_type": "code",
   "execution_count": null,
   "metadata": {},
   "outputs": [],
   "source": [
    "# Get the ID of the label of the emails to print\n",
    "\n",
    "# Get all labels from user\n",
    "results = service.users().labels().list(userId=USER).execute()\n",
    "labels = results.get('labels', [])\n",
    "label_id = None\n",
    "\n",
    "# Obtain desired label ID\n",
    "for label in labels:\n",
    "    if label['name'] == LABEL_NAME:\n",
    "        label_id = label['id']\n",
    "        break\n",
    "\n",
    "print(label_id)"
   ]
  },
  {
   "cell_type": "code",
   "execution_count": null,
   "metadata": {},
   "outputs": [],
   "source": [
    "# Get all relevant mails with the given label\n",
    "\n",
    "mails = []\n",
    "response = service.users().messages().list(userId=USER, includeSpamTrash=IN_TRASH, labelIds=label_id).execute()\n",
    "\n",
    "# if there are mails in first page\n",
    "if 'messages' in response:\n",
    "    mails.extend(response['messages'])\n",
    "\n",
    "# if there are remaining pages to go through, a page only contains 20 emails\n",
    "while 'nextPageToken' in response:\n",
    "    token = response['nextPageToken']\n",
    "    response = service.users().messages().list(userId=USER, includeSpamTrash=IN_TRASH, labelIds=label_id, pageToken=token).execute()\n",
    "    mails.extend(response['messages'])\n",
    "\n",
    "# the number of emails with the given label found\n",
    "\n",
    "print(len(mails))"
   ]
  },
  {
   "cell_type": "markdown",
   "metadata": {},
   "source": [
    "<h3>Save Emails as PDF files</h3>"
   ]
  },
  {
   "cell_type": "code",
   "execution_count": null,
   "metadata": {},
   "outputs": [],
   "source": [
    "# Importing required libraries\n",
    "\n",
    "# decode response from Gmail api and save a email\n",
    "import base64\n",
    "import email\n",
    "\n",
    "# for renaming folder\n",
    "import shutil\n",
    "\n",
    "# valid filename\n",
    "import string\n",
    "\n",
    "# convert date\n",
    "from datetime import datetime"
   ]
  },
  {
   "cell_type": "code",
   "execution_count": null,
   "metadata": {},
   "outputs": [],
   "source": [
    "# Utility functions\n",
    "\n",
    "\"\"\"\n",
    "Checks if the received path is a valid path name.\n",
    "Removes all invalid characters.\n",
    "\"\"\"\n",
    "def valid_path_name(path):\n",
    "    valid_chars = f\"-_.() ' à â ç è é ê î ô ù û  {string.ascii_letters} {string.digits}\" \n",
    "    return ''.join(c for c in path if c in valid_chars)\n",
    "\n",
    "\n",
    "\"\"\"\n",
    "Converts received date to a specified format.\n",
    "Can be customized to liking.\n",
    "\"\"\"\n",
    "def convert_date(date_var, with_time=True):\n",
    "    # possible format \n",
    "    # Thu 27 Oct 2016 153051 0200\n",
    "    # Wed 1 Feb 2017 110109 0100 (CET)\n",
    "    # Mon 10 Oct 2016 153833 0200 (CEST)\n",
    "    # 15 Jun 2017 092429\n",
    "\n",
    "\n",
    "    date_var=date_var.replace(' (CET)', '')\n",
    "    date_var=date_var.replace(' (CEST)', '')\n",
    "    date_var=date_var[:-5]\n",
    "    try:\n",
    "        datetime_object = datetime.strptime(date_var, '%a %d %b %Y %H%M%S')  #Thu 27 Oct 2016 153051 0200\n",
    "        if with_time == True:\n",
    "            date_var = datetime_object.strftime('%Y_%m_%d %Hh%Mm%S')\n",
    "        else:\n",
    "            date_var = datetime_object.strftime('%Y_%m_%d')\n",
    "        return date_var\n",
    "    except:\n",
    "        # datetime_object = datetime.strptime(date_var, '%d %a %b %Y %H%M%S') #15 Jun 2017 092429\n",
    "        return date_var + \" zzz\"\n",
    "\n",
    "\n",
    "\"\"\"\n",
    "Receives a header object and exxtracts the date and subject values from it.\n",
    "Can be customized to liking.\n",
    "\"\"\"\n",
    "def extract_header_info(header):\n",
    "#     it = iter(['From', 'Date', 'Subject', 'To'])\n",
    "    it = iter(['Date', 'Subject'])\n",
    "    name = next(it)\n",
    "    info = []\n",
    "    \n",
    "    for elem in header:\n",
    "        if elem['name'] == name:\n",
    "            info.append(elem['value'])\n",
    "            try:\n",
    "                name = next(it)\n",
    "            except StopIteration:\n",
    "                break\n",
    "    \n",
    "    return tuple(info)\n",
    "\n",
    "\n",
    "\"\"\"\n",
    "Used as the naming convention for folders and files to be created.\n",
    "Can be customized to liking.\n",
    "Note: Project-specific code to process subject lines in DLSU's HDAs\n",
    "\"\"\"\n",
    "def setNames(subject):\n",
    "    \n",
    "    # [DEPT], Lorem Ipsum <- [DEPT] Lorem Ipsum\n",
    "    dept, subject = subject.split(maxsplit=1)\n",
    "    \n",
    "    # DEPT <- [DEPT]\n",
    "    foldername = valid_path_name(dept[1:-1])\n",
    "    \n",
    "    # *date* Lorem Ipsum\n",
    "    filename = valid_path_name(convert_date(valid_path_name(date)) + ' ' + subject)\n",
    "    \n",
    "    return foldername, filename"
   ]
  },
  {
   "cell_type": "code",
   "execution_count": null,
   "metadata": {},
   "outputs": [],
   "source": [
    "# Relocate working directory\n",
    "\n",
    "os.chdir(DIR_NAME)\n",
    "print('Current working directory:', os.getcwd())"
   ]
  },
  {
   "cell_type": "code",
   "execution_count": null,
   "metadata": {},
   "outputs": [],
   "source": [
    "# Create a folder in wrkdir if it does not exist yet\n",
    "\n",
    "if not os.path.exists(SAVE_FOLDER):\n",
    "    os.makedirs(SAVE_FOLDER)"
   ]
  },
  {
   "cell_type": "code",
   "execution_count": null,
   "metadata": {},
   "outputs": [],
   "source": [
    "# Go through each mail and save them as .eml files first before converting to pdf\n",
    "\n",
    "for mail in mails:\n",
    "    \n",
    "    # get date and subject from mail headers\n",
    "    headers = service.users().messages().get(userId=USER, id=mail['id'], format='full').execute()['payload']['headers']\n",
    "    date, subject = extract_header_info(headers)\n",
    "    \n",
    "    \n",
    "    # create directory names\n",
    "    foldername, filename = setNames(subject)\n",
    "    \n",
    "    # create a folder in SAVE_FOLDER path if it does not exist yet\n",
    "    folder_path = SAVE_FOLDER + '\\\\' + foldername\n",
    "    if not os.path.exists(folder_path):\n",
    "        os.makedirs(folder_path)\n",
    "        \n",
    "    \n",
    "    file_path = os.path.join(folder_path, filename)\n",
    "    \n",
    "    \n",
    "    # if a pdf file with the same name already exists, it continues to the next email\n",
    "    if os.path.exists(file_path + '.pdf'):\n",
    "        print('Already Exists.')\n",
    "        continue\n",
    "    \n",
    "    \n",
    "    # get entire mail body in RFC 2822 format\n",
    "    raw = service.users().messages().get(userId=USER, id=mail['id'], format='raw').execute()\n",
    "\n",
    "    try:\n",
    "        #convert the raw format into a string format\n",
    "        msg_str = base64.urlsafe_b64decode(raw['raw'].encode('ASCII')) \n",
    "        mime_msg = email.message_from_string(msg_str.decode())\n",
    "        \n",
    "        emlfile = file_path + '.eml'\n",
    "\n",
    "        # create and write file\n",
    "        with open(emlfile, 'w') as outfile:\n",
    "            gen = email.generator.Generator(outfile)\n",
    "            gen.flatten(mime_msg)\n",
    "            \n",
    "    except Exception as e:\n",
    "        print(e)\n",
    "        print(\"Error in message \", raw[\"snippet\"])\n",
    "    \n",
    "    \n",
    "    # convert .eml to pdf using emailconverter.jar and delete .eml file\n",
    "    os.system(f'cmd /c {CMD} \"{emlfile}\"')\n",
    "    os.remove(emlfile)"
   ]
  }
 ],
 "metadata": {
  "author": [
   {
    "name": "Jared Blase Sy"
   }
  ],
  "kernelspec": {
   "display_name": "Python 3",
   "language": "python",
   "name": "python3"
  },
  "language_info": {
   "codemirror_mode": {
    "name": "ipython",
    "version": 3
   },
   "file_extension": ".py",
   "mimetype": "text/x-python",
   "name": "python",
   "nbconvert_exporter": "python",
   "pygments_lexer": "ipython3",
   "version": "3.8.5"
  }
 },
 "nbformat": 4,
 "nbformat_minor": 4
}
